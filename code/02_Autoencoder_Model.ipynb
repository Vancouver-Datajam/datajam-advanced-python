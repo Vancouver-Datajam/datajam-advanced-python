{
  "nbformat": 4,
  "nbformat_minor": 0,
  "metadata": {
    "colab": {
      "provenance": [],
      "collapsed_sections": []
    },
    "kernelspec": {
      "name": "python3",
      "display_name": "Python 3"
    },
    "language_info": {
      "name": "python"
    }
  },
  "cells": [
    {
      "cell_type": "markdown",
      "source": [
        "# Image Compression & Re-Generation using a Vanilla Autoencoder\n",
        "\n",
        "#### Author: Zubia Mansoor\n",
        "#### Date: Oct 1, 2022\n",
        "#### Event: Vancouver DataFest 2022"
      ],
      "metadata": {
        "id": "nDSfEJQwckx_"
      }
    },
    {
      "cell_type": "markdown",
      "source": [
        "# Step 1: Import Packages"
      ],
      "metadata": {
        "id": "bdf2y9WEu7M8"
      }
    },
    {
      "cell_type": "code",
      "execution_count": null,
      "metadata": {
        "id": "Dtu-neSifTPt"
      },
      "outputs": [],
      "source": [
        "##############################\n",
        "# Some standard packages\n",
        "##############################\n",
        "import numpy as np \n",
        "import matplotlib.pyplot as plt \n",
        "import pandas as pd \n",
        "import os\n",
        "\n",
        "###############################\n",
        "# Packages for deep learning\n",
        "###############################\n",
        "import torch \n",
        "from torch.utils.data import Dataset, DataLoader\n",
        "from torch import nn, optim\n",
        "from torch.nn import functional as F\n",
        "from torchsummary import summary\n",
        "import torchvision\n",
        "from torchvision import datasets, transforms\n",
        "\n",
        "###############################\n",
        "# Additional\n",
        "###############################\n",
        "from tqdm import tqdm\n",
        "device = torch.device(\"cuda\" if torch.cuda.is_available() else \"cpu\") \n",
        "# this is for using GPUs\n",
        "# for calling multi-node GPUs, both won't be utilized unless we assign each GPU device explicitly as below\n",
        "# device_0 = torch.device('cuda:0')\n",
        "# device_1 = torch.device('cuda:1')\n"
      ]
    },
    {
      "cell_type": "code",
      "source": [
        "# intialize parameters \n",
        "epochs = 10\n",
        "batch_size = 16\n",
        "torch.manual_seed(17)"
      ],
      "metadata": {
        "id": "FwxLmies3RtU"
      },
      "execution_count": null,
      "outputs": []
    },
    {
      "cell_type": "markdown",
      "source": [
        "# Step 2: Exploratory Data Analysis\n"
      ],
      "metadata": {
        "id": "ks5MvJ94q6JI"
      }
    },
    {
      "cell_type": "code",
      "source": [
        "data_labels = pd.read_csv('train.csv')\n",
        "print(f\"The shape of the data is: {data_labels.shape}\") # f-strings formatters are super handy!\n",
        "data_labels.head()"
      ],
      "metadata": {
        "id": "P3Mbs4H1g9WH"
      },
      "execution_count": null,
      "outputs": []
    },
    {
      "cell_type": "markdown",
      "source": [
        "Each row contains the pixel information of a specific image. Thus, looking at the shape of the data, we have  (1) 42,000 example images (2) each image is made up by 28x28 pixels\n",
        "\n",
        "\n",
        "\n"
      ],
      "metadata": {
        "id": "Gm1Xo0bPdHxg"
      }
    },
    {
      "cell_type": "code",
      "source": [
        "data = data_labels.drop(['label'], axis=1) # we need only the pixel information since this is an unsupervised problem \n",
        "data.head()"
      ],
      "metadata": {
        "id": "SdNDnX8ykrMJ"
      },
      "execution_count": null,
      "outputs": []
    },
    {
      "cell_type": "code",
      "source": [
        "# take a random image (i.e. row)\n",
        "index = 3\n",
        "image= data.iloc[index]\n",
        "image= np.array(image).astype('float32')\n",
        "\n",
        "image = np.reshape(image, (28,28))\n",
        "image = image/255 # normalize pixel values"
      ],
      "metadata": {
        "id": "jmrttpolhIw0"
      },
      "execution_count": null,
      "outputs": []
    },
    {
      "cell_type": "code",
      "source": [
        "# visualise our data\n",
        "plt.imshow(image, cmap = 'gray')\n",
        "plt.title(f\"Actual label: {data_labels.iloc[index,0]}\") \n",
        "plt.show()"
      ],
      "metadata": {
        "id": "9ttyPZxLkiHp"
      },
      "execution_count": null,
      "outputs": []
    },
    {
      "cell_type": "markdown",
      "source": [
        "# Step 3: Data Preparation"
      ],
      "metadata": {
        "id": "Ht59aOSjrKQp"
      }
    },
    {
      "cell_type": "code",
      "source": [
        "# Helper functions (usually, a good practice to have it in a separate helpers.py file)\n",
        "def show_image(org_image, pred_image = None, latent_image = None):\n",
        "    \n",
        "    if pred_image == None:\n",
        "        \n",
        "        f, ax1 = plt.subplots(1, 1, figsize=(10,5))\n",
        "        \n",
        "        ax1.set_title('original_image')\n",
        "        ax1.imshow(org_image.permute(1,2,0).squeeze(),cmap = 'gray')\n",
        "        \n",
        "    else:\n",
        "        \n",
        "        f, (ax1, ax2, ax3) = plt.subplots(1, 3, figsize=(15,10))\n",
        "        \n",
        "        ax1.set_title('original_image')\n",
        "        ax1.imshow(org_image.permute(1,2,0).squeeze(),cmap = 'gray')\n",
        "\n",
        "        ax2.set_title('reconstructed_image')\n",
        "        ax2.imshow(pred_image.permute(1,2,0).squeeze(),cmap = 'gray')\n",
        "\n",
        "        ax3.set_title('latent_image')\n",
        "        ax3.imshow(latent_image.permute(1,2,0).squeeze(),cmap = 'gray')\n",
        "        \n",
        "# converts an image to tensor         \n",
        "class ToTensorForAE(object):\n",
        "    \n",
        "    def __call__(self,sample):\n",
        "        \n",
        "        images = sample\n",
        "        \n",
        "        images = images.transpose((2,0,1))\n",
        "        return torch.from_numpy(images).float()"
      ],
      "metadata": {
        "id": "u4STUXg44BFE"
      },
      "execution_count": null,
      "outputs": []
    },
    {
      "cell_type": "code",
      "source": [
        "# OOP way of programming is flexible, concise, efficient\n",
        "class MNIST_AE_Dataset(Dataset):\n",
        "  \n",
        "  def __init__(self, data, transform):\n",
        "    self.data = data\n",
        "    self.transform = transform\n",
        "\n",
        "  def __len__(self):\n",
        "    return len(self.data)\n",
        "\n",
        "  def __getitem__(self, idx):\n",
        "    ## DIY!!!\n",
        "    img =              # index data\n",
        "    img =              # convert data into numpy array\n",
        "    img =              # reshape to (height, width, num_channels) & normalize\n",
        "\n",
        "    sample = img\n",
        "\n",
        "    if self.transform:\n",
        "      sample = self.transform(sample)\n",
        "    return sample"
      ],
      "metadata": {
        "id": "z7klJCDZ4A8m"
      },
      "execution_count": null,
      "outputs": []
    },
    {
      "cell_type": "code",
      "source": [
        "full_dataset = MNIST_AE_Dataset(data, transform = ToTensorForAE())\n",
        "# create train/val splits\n",
        "training_size = int(0.8 * len(full_dataset))\n",
        "validation_size = int(0.2 * len(full_dataset))\n",
        "training_dataset, validation_dataset = torch.utils.data.random_split(full_dataset, [training_size, validation_size])"
      ],
      "metadata": {
        "id": "BWIWP4_U9dvj"
      },
      "execution_count": null,
      "outputs": []
    },
    {
      "cell_type": "code",
      "source": [
        "print(f\"Size of training set: {len(training_dataset)}\")\n",
        "print(f\"Size of training set: {len(validation_dataset)}\")"
      ],
      "metadata": {
        "id": "euEXua3K-f8K"
      },
      "execution_count": null,
      "outputs": []
    },
    {
      "cell_type": "code",
      "source": [
        "original_image = training_dataset[18]\n",
        "show_image(org_image = original_image)"
      ],
      "metadata": {
        "id": "f71sU7ic-lYr"
      },
      "execution_count": null,
      "outputs": []
    },
    {
      "cell_type": "markdown",
      "source": [
        "# Step 4: Creating Data Loaders"
      ],
      "metadata": {
        "id": "6XpSyoVGrOcf"
      }
    },
    {
      "cell_type": "markdown",
      "source": [
        "Dataloaders are used to load dataset into batches"
      ],
      "metadata": {
        "id": "ikTU7zzDvTQB"
      }
    },
    {
      "cell_type": "code",
      "source": [
        "train_loader = DataLoader(training_dataset, batch_size=batch_size, shuffle=True)\n",
        "val_loader = DataLoader(validation_dataset, batch_size=batch_size, shuffle=True)"
      ],
      "metadata": {
        "id": "xDUfCmW7rQq_"
      },
      "execution_count": null,
      "outputs": []
    },
    {
      "cell_type": "code",
      "source": [
        "dataiter = iter(train_loader) # iterating through each item in the dataloader\n",
        "original_image = dataiter.next()\n",
        "\n",
        "print(f'Shape of loading one batch: {original_image.shape}') # 16: batch size, 1: no of channel(greyscale), (28,28): image size\n",
        "print(f'Total no. of batches: {len(train_loader)}')\n",
        "print(f'Total no. of examples: {len(train_loader)*batch_size}')"
      ],
      "metadata": {
        "id": "7heUbocerRCh"
      },
      "execution_count": null,
      "outputs": []
    },
    {
      "cell_type": "markdown",
      "source": [
        "The dimensions correspond to (batch size, num of channels, height, width)"
      ],
      "metadata": {
        "id": "hHWi7ZI0vmL4"
      }
    },
    {
      "cell_type": "markdown",
      "source": [
        "# Step 5: Auto Encoder Architecture"
      ],
      "metadata": {
        "id": "7iHmPyvrvhBI"
      }
    },
    {
      "cell_type": "markdown",
      "source": [
        "![ae_example.png](data:image/png;base64,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)"
      ],
      "metadata": {
        "id": "cVZP_6yxXjGd"
      }
    },
    {
      "cell_type": "markdown",
      "source": [
        "Note that we are building a linear (vanilla) autoencoder where the encoder and decoder consists of linear layers"
      ],
      "metadata": {
        "id": "ikm9xIsW4gI6"
      }
    },
    {
      "cell_type": "markdown",
      "source": [
        "Think of the autoencoder as an inverted hourglass and consider the encoding dimension to be an intermediate dimension between input & output which can be manipulated as per your need. Its size must stay between input & output dimensions!"
      ],
      "metadata": {
        "id": "WMkAIYn_5ClI"
      }
    },
    {
      "cell_type": "code",
      "source": [
        "# skeleton for AE\n",
        "\n",
        "# need to fill in dimensions here !!!\n",
        "input_dim = \n",
        "hidden_space_dim = \n",
        "hidden_space_dim_2 = \n",
        "latent_space_dim = \n",
        "\n",
        "# build an encoder class\n",
        "class Encoder(nn.Module):\n",
        "    def __init__(self):\n",
        "        super(Encoder, self).__init__()\n",
        "        \n",
        "        # encoder has two hidden layers that deconstruct the input and one bottleneck layer (also called latent dimension) \n",
        "        self.en_h1 = nn.Linear(in_features = input_dim*input_dim, out_features = hidden_space_dim) # the idea is to bring down the size slowly before going into latent space\n",
        "        self.en_h2 = nn.Linear(in_features = hidden_space_dim, out_features = hidden_space_dim_2)\n",
        "        self.en_fc = nn.Linear(in_features = hidden_space_dim_2, out_features = latent_space_dim)\n",
        "    \n",
        "    # we apply a relu activation after the first and second hidden layers\n",
        "    # encoded is the output from the bottleneck layer\n",
        "    def forward(self,x):\n",
        "        x = F.relu(self.en_h1(x))\n",
        "        x = F.relu(self.en_h2(x))\n",
        "        encoded =  self.en_fc(x)\n",
        "        return encoded\n",
        "\n",
        "# build a decoder class (DIY!!)    \n",
        "class Decoder(nn.Module):\n",
        "    def __init__(self):\n",
        "        super(Decoder, self).__init__()\n",
        "        \n",
        "        # decoders are mirror of your encoders, so it has two hidden layers that reconstruct output from latent dimension \n",
        "        # and an output layer\n",
        "        self.de_h1 = \n",
        "        self.de_h2 = \n",
        "        self.de_fc =\n",
        "    \n",
        "    # use sigmoid activation so that output values lie between 0 and 1\n",
        "    def forward(self,x):\n",
        "        x =\n",
        "        x = \n",
        "        decoded =  \n",
        "        return decoded\n",
        "    \n",
        "# use the above two classes to construct an Auto Encoder            \n",
        "class AE(nn.Module):\n",
        "    def __init__(self):\n",
        "        super(AE, self).__init__()\n",
        "        \n",
        "        self.encoder = Encoder()\n",
        "        self.decoder = Decoder()\n",
        "\n",
        "    def forward(self, x):\n",
        "        latent_x = self.encoder(x)\n",
        "        output_x = self.decoder(latent_x)\n",
        "        return latent_x, output_x "
      ],
      "metadata": {
        "id": "q4BbLod5vieG"
      },
      "execution_count": null,
      "outputs": []
    },
    {
      "cell_type": "code",
      "source": [
        "model = AE().to(device)\n",
        "model"
      ],
      "metadata": {
        "id": "1t2T4IKSvibX"
      },
      "execution_count": null,
      "outputs": []
    },
    {
      "cell_type": "code",
      "source": [
        "summary(model, input_size = (1, 28*28))"
      ],
      "metadata": {
        "id": "2dTzqFRfviY6"
      },
      "execution_count": null,
      "outputs": []
    },
    {
      "cell_type": "code",
      "source": [
        "# define loss function -> binary cross-entropy (between reconstructed input and original input)\n",
        "def loss_function(reconstructed_x, x): \n",
        "    BCE = F.binary_cross_entropy(reconstructed_x, x.view(-1, input_dim*input_dim), reduction='sum')\n",
        "    return BCE "
      ],
      "metadata": {
        "id": "UmBH1qTTyv0u"
      },
      "execution_count": null,
      "outputs": []
    },
    {
      "cell_type": "code",
      "source": [
        "# optimizer\n",
        "optimizer = optim.Adam(model.parameters(), lr=1e-3) # can try different ones, keep default learning rate"
      ],
      "metadata": {
        "id": "Wd_lprzk3A3U"
      },
      "execution_count": null,
      "outputs": []
    },
    {
      "cell_type": "markdown",
      "source": [
        "# Step 6: Training Loop"
      ],
      "metadata": {
        "id": "gq5OXTU73Aiv"
      }
    },
    {
      "cell_type": "code",
      "source": [
        "def evaluate(evaluate_data=val_loader):\n",
        "    # this means that the model is in eval mode\n",
        "    model.eval()\n",
        "    val_loss = 0\n",
        "    \n",
        "    # we dont want to calculat gradients in eval mode\n",
        "    with torch.no_grad():\n",
        "      for data in evaluate_data:\n",
        "          # print(f'before applying: {data.size()}')\n",
        "          data = data.view(batch_size, -1)\n",
        "          # print(f'after applying: {data.size()}')\n",
        "          data = data.to(device)\n",
        "          \n",
        "          # this is the reconstructed output\n",
        "          recon_batch = model(data)[1]\n",
        "          # print(f'reconstructed output: {recon_batch.size()}')\n",
        "          loss = loss_function(recon_batch, data)       \n",
        "          val_loss += loss.item()\n",
        "      \n",
        "      average_val_loss = val_loss / len(evaluate_data.dataset)\n",
        "      return average_val_loss"
      ],
      "metadata": {
        "id": "UzfrC0JaxDmZ"
      },
      "execution_count": null,
      "outputs": []
    },
    {
      "cell_type": "code",
      "source": [
        "def train(epoch):\n",
        "\n",
        "    model.train()\n",
        "    train_loss = 0\n",
        "    \n",
        "    progress_bar = tqdm(train_loader, desc='Epoch {:03d}'.format(epoch), leave=False, disable=False)\n",
        "    for data in progress_bar:\n",
        "        # print(f'before applying: {data.size()}')\n",
        "        data = data.view(batch_size, -1)\n",
        "        # print(f'after applying: {data.size()}')\n",
        "        data = data.to(device)\n",
        "        \n",
        "        # set gradients to 0\n",
        "        optimizer.zero_grad()\n",
        "        \n",
        "        # this is the reconstructed output\n",
        "        recon_batch = model(data)[1]\n",
        "        # print(f'reconstructed output: {recon_batch.size()}')\n",
        "        loss = loss_function(recon_batch, data)\n",
        "        \n",
        "        # in train mode, we do want to calculate gradients\n",
        "        loss.backward()\n",
        "        \n",
        "        train_loss += loss.item()\n",
        "        \n",
        "        optimizer.step()\n",
        "\n",
        "        progress_bar.set_postfix({'training_loss': '{:.3f}'.format(loss.item() / len(data))})\n",
        "\n",
        "    average_train_loss = train_loss / len(train_loader.dataset)\n",
        "    tqdm.write('Training set loss (average, epoch {:03d}): {:.3f}'.format(epoch, average_train_loss))\n",
        "    val_loss = evaluate(val_loader)\n",
        "    tqdm.write('\\t\\t\\t\\t====> Validation set loss: {:.3f}'.format(val_loss))\n",
        "\n",
        "    # lists that contain the losses\n",
        "    train_losses.append(average_train_loss)\n",
        "    val_losses.append(val_loss)\n",
        "    \n",
        "    # every epoch, save our model state dictionary that contain all the layers, \n",
        "    # their weights, biases to load in a fresh model\n",
        "    if epoch%1==0:\n",
        "        torch.save(model.state_dict(), f'Models/epoch_{epoch}.model')"
      ],
      "metadata": {
        "id": "6EEOHCZd3AJ3"
      },
      "execution_count": null,
      "outputs": []
    },
    {
      "cell_type": "code",
      "source": [
        "train_losses = []\n",
        "val_losses = []\n",
        "os.mkdir('Models') # comment out once folder is created\n",
        "for epoch in range(1, epochs+1):\n",
        "  train(epoch)\n",
        "    \n",
        "np.savetxt('Models/training_losses.txt', np.array(train_losses), delimiter='\\n')\n",
        "np.savetxt('Models/validation_losses.txt', np.array(val_losses), delimiter='\\n')"
      ],
      "metadata": {
        "id": "YrQGTu2r6n0l"
      },
      "execution_count": null,
      "outputs": []
    },
    {
      "cell_type": "code",
      "source": [
        "# Plot losses\n",
        "plt.figure(figsize=(10,8))\n",
        "plt.semilogy(train_losses, label='Train')\n",
        "plt.semilogy(val_losses, label='Valid')\n",
        "plt.xlabel('Epoch')\n",
        "plt.ylabel('Average Loss')\n",
        "plt.legend()\n",
        "plt.show()"
      ],
      "metadata": {
        "id": "VvOJ8AxSGknT"
      },
      "execution_count": null,
      "outputs": []
    },
    {
      "cell_type": "markdown",
      "source": [
        "# Step 7: Results "
      ],
      "metadata": {
        "id": "yNp-gad3SRfB"
      }
    },
    {
      "cell_type": "code",
      "source": [
        "test_data = pd.read_csv('test.csv')\n",
        "print(f\"The shape of the data is: {test_data.shape}\")"
      ],
      "metadata": {
        "id": "YfVmgCQA1CGo"
      },
      "execution_count": null,
      "outputs": []
    },
    {
      "cell_type": "code",
      "source": [
        "# prep test data\n",
        "test_dataset = MNIST_AE_Dataset(test_data, transform = ToTensorForAE())\n",
        "test_loader = DataLoader(test_dataset, batch_size=batch_size, shuffle=True)"
      ],
      "metadata": {
        "id": "XkBj40TX2pJL"
      },
      "execution_count": null,
      "outputs": []
    },
    {
      "cell_type": "code",
      "source": [
        "model.eval()\n",
        "\n",
        "with torch.no_grad():\n",
        "  \n",
        "  # test data\n",
        "  dataiter = iter(test_loader)\n",
        "  sample = dataiter.next()\n",
        "\n",
        "  index = 4\n",
        "\n",
        "  original_image = sample\n",
        "\n",
        "  # this is the latent and reconstructed output\n",
        "  latent_image, reconstructed_image = model(original_image[index].view(1,-1)) # model takes input as (batch_size, num_features)\n",
        "  reconstructed_image = np.reshape(reconstructed_image, (1,28,28))\n",
        "  latent_image = np.reshape(latent_image, (1,6,6))\n",
        "\n",
        "  print(f\"Shape of original image: {original_image[index].view(1,-1).shape}\")\n",
        "  print(f\"Shape of reconstructed image: {reconstructed_image.shape}\")\n",
        "  print(f\"Shape of latent image: {latent_image.shape}\")\n",
        "  show_image(original_image[index], reconstructed_image, latent_image) \n",
        "  "
      ],
      "metadata": {
        "id": "UkFvxc7fSs6K"
      },
      "execution_count": null,
      "outputs": []
    },
    {
      "cell_type": "code",
      "source": [
        "# obtain one batch of test images\n",
        "dataiter = iter(test_loader)\n",
        "sample = dataiter.next()\n",
        "\n",
        "original_image = sample\n",
        "\n",
        "images_flatten = original_image.view(original_image.size(0), -1)\n",
        "# get sample outputs\n",
        "output = model(images_flatten)[1]\n",
        "# prep images for display\n",
        "images = original_image.numpy()\n",
        "\n",
        "# output is resized into a batch of images\n",
        "output = output.view(batch_size, 1, 28, 28)\n",
        "# use detach when it's an output that requires_grad\n",
        "output = output.detach().numpy()\n",
        "\n",
        "# plot the first ten input images and then reconstructed images\n",
        "fig, axes = plt.subplots(nrows=2, ncols=10, sharex=True, sharey=True, figsize=(25,4))\n",
        "\n",
        "# input images on top row, reconstructions on bottom\n",
        "print('Original versus Reconstructed Image')\n",
        "for images, row in zip([images, output], axes):\n",
        "    for img, ax in zip(images, row):\n",
        "        ax.imshow(np.squeeze(img), cmap='gray')\n",
        "        ax.get_xaxis().set_visible(False)\n",
        "        ax.get_yaxis().set_visible(False)\n",
        "\n"
      ],
      "metadata": {
        "id": "1hgj62mGV-kz"
      },
      "execution_count": null,
      "outputs": []
    },
    {
      "cell_type": "markdown",
      "source": [
        "# Step 8: Visualize the Latent Space "
      ],
      "metadata": {
        "id": "iFY49O7YIlxb"
      }
    },
    {
      "cell_type": "code",
      "source": [
        "test_dataset  = torchvision.datasets.MNIST('dataset', train=False, download=True)\n",
        "test_transform = transforms.Compose([\n",
        "transforms.ToTensor(),\n",
        "])\n",
        "test_dataset.transform = test_transform"
      ],
      "metadata": {
        "id": "eGziZtBeUoZn"
      },
      "execution_count": null,
      "outputs": []
    },
    {
      "cell_type": "code",
      "source": [
        "encoded_samples = []\n",
        "for sample in tqdm(test_dataset):\n",
        "    img = sample[0].unsqueeze(0).to(device)\n",
        "    label = sample[1]\n",
        "    # Encode image\n",
        "    model.eval()\n",
        "    with torch.no_grad():\n",
        "        encoded_img  = model(img.view(1,-1))[0]\n",
        "    # Append to list\n",
        "    encoded_img = encoded_img.flatten().cpu().numpy()\n",
        "    encoded_sample = {f\"Enc. Variable {i}\": enc for i, enc in enumerate(encoded_img)}\n",
        "    encoded_sample['label'] = label\n",
        "    encoded_samples.append(encoded_sample)\n",
        "encoded_samples = pd.DataFrame(encoded_samples)"
      ],
      "metadata": {
        "id": "maOJVJLGIp2F"
      },
      "execution_count": null,
      "outputs": []
    },
    {
      "cell_type": "code",
      "source": [
        "from sklearn.manifold import TSNE\n",
        "\n",
        "tsne = TSNE(n_components=2)\n",
        "tsne_results = tsne.fit_transform(encoded_samples.drop(['label'],axis=1))\n",
        "fig = px.scatter(tsne_results, x=0, y=1,\n",
        "                 color=encoded_samples.label.astype(str),\n",
        "                 labels={'0': 'tsne-2d-one', '1': 'tsne-2d-two'})\n",
        "fig.show()\n"
      ],
      "metadata": {
        "id": "97ME-vcdUUYO"
      },
      "execution_count": null,
      "outputs": []
    }
  ]
}